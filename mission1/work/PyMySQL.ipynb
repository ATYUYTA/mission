{
 "cells": [
  {
   "cell_type": "code",
   "execution_count": 1,
   "metadata": {},
   "outputs": [
    {
     "name": "stdout",
     "output_type": "stream",
     "text": [
      "Collecting pymysql\n",
      "  Downloading https://files.pythonhosted.org/packages/a7/7d/682c4a7da195a678047c8f1c51bb7682aaedee1dca7547883c3993ca9282/PyMySQL-0.9.2-py2.py3-none-any.whl (47kB)\n",
      "\u001b[K    100% |████████████████████████████████| 51kB 406kB/s ta 0:00:01\n",
      "\u001b[?25hRequirement already satisfied: cryptography in /opt/conda/lib/python3.6/site-packages (from pymysql)\n",
      "Requirement already satisfied: idna>=2.1 in /opt/conda/lib/python3.6/site-packages (from cryptography->pymysql)\n",
      "Requirement already satisfied: asn1crypto>=0.21.0 in /opt/conda/lib/python3.6/site-packages (from cryptography->pymysql)\n",
      "Requirement already satisfied: six>=1.4.1 in /opt/conda/lib/python3.6/site-packages (from cryptography->pymysql)\n",
      "Requirement already satisfied: cffi>=1.7 in /opt/conda/lib/python3.6/site-packages (from cryptography->pymysql)\n",
      "Requirement already satisfied: pycparser in /opt/conda/lib/python3.6/site-packages (from cffi>=1.7->cryptography->pymysql)\n",
      "Installing collected packages: pymysql\n",
      "Successfully installed pymysql-0.9.2\n",
      "\u001b[33mYou are using pip version 9.0.3, however version 18.0 is available.\n",
      "You should consider upgrading via the 'pip install --upgrade pip' command.\u001b[0m\n"
     ]
    }
   ],
   "source": [
    "!pip install pymysql"
   ]
  },
  {
   "cell_type": "code",
   "execution_count": 16,
   "metadata": {},
   "outputs": [
    {
     "name": "stdout",
     "output_type": "stream",
     "text": [
      "connect sucess!!\n"
     ]
    }
   ],
   "source": [
    "import pymysql\n",
    "\n",
    "conn = pymysql.connect(host='mysql', port=3306, user='root', passwd='iii', db='mysql',charset='utf8mb4')\n",
    "\n",
    "print(\"connect sucess!!\")\n",
    "\n",
    "cur = conn.cursor()\n",
    "\n",
    "if cur.execute(\"SHOW DATABASES LIKE 'test'\"):\n",
    "    cur.execute(\"DROP DATABASE test\")\n",
    "else:\n",
    "    cur.execute(\"create database test\")\n",
    "    if cur.execute(\"SELECT * \\\n",
    "                    FROM information_schema.tables \\\n",
    "                    WHERE table_schema = 'test' \n",
    "    AND table_name = 'first' LIMIT 1\"):\n",
    "        cur.execute(\"DROP TABLE first\")\n",
    "    else:\n",
    "        cur.execute('create table test.first (name CHAR(20), phonenumber INT, address CHAR(100))')\n",
    "\n"
   ]
  },
  {
   "cell_type": "code",
   "execution_count": 47,
   "metadata": {},
   "outputs": [
    {
     "name": "stdout",
     "output_type": "stream",
     "text": [
      "('chester', 988888888, 'taiwan')\n"
     ]
    }
   ],
   "source": [
    "cur = conn.cursor()\n",
    "#插入資料\n",
    "insertsql=\"INSERT INTO test.first VALUES ('chester','0988888888','taiwan')\"\n",
    "cur.execute(insertsql)\n",
    "#讀取資料\n",
    "readsql=\"SELECT * FROM test.first\"\n",
    "cur.execute(readsql)\n",
    "result=cur.fetchone()\n",
    "print(result)\n"
   ]
  },
  {
   "cell_type": "code",
   "execution_count": 49,
   "metadata": {},
   "outputs": [
    {
     "name": "stdout",
     "output_type": "stream",
     "text": [
      "('chester', 911111111, 'taiwan')\n",
      "None\n"
     ]
    }
   ],
   "source": [
    "#更新資料 (更改電話號碼)\n",
    "insertsql=\"UPDATE test.first SET phonenumber='0911111111' WHERE name='chester'\"\n",
    "cur.execute(insertsql)\n",
    "#讀取資料\n",
    "readsql=\"SELECT * FROM test.first\"\n",
    "cur.execute(readsql)\n",
    "result=cur.fetchone()\n",
    "print(result)\n",
    "#刪除資料\n",
    "delsql=\"DELETE FROM test.first WHERE name='chester'\"\n",
    "cur.execute(delsql)\n",
    "#讀取資料\n",
    "readsql=\"SELECT * FROM test.first\"\n",
    "cur.execute(readsql)\n",
    "result=cur.fetchone()\n",
    "print(result)"
   ]
  },
  {
   "cell_type": "code",
   "execution_count": null,
   "metadata": {},
   "outputs": [],
   "source": [
    "#刪除資料\n",
    "delsql=\"DELETE FROM test.first WHERE name='chester'\"\n",
    "cur.execute(delsql)\n",
    "#讀取資料\n",
    "readsql=\"SELECT * FROM test.first\"\n",
    "cur.execute(readsql)\n",
    "result=cur.fetchone()\n",
    "print(result)\n",
    "\n",
    "\n",
    "cur.close()\n",
    "conn.close()"
   ]
  }
 ],
 "metadata": {
  "kernelspec": {
   "display_name": "Python 3",
   "language": "python",
   "name": "python3"
  },
  "language_info": {
   "codemirror_mode": {
    "name": "ipython",
    "version": 3
   },
   "file_extension": ".py",
   "mimetype": "text/x-python",
   "name": "python",
   "nbconvert_exporter": "python",
   "pygments_lexer": "ipython3",
   "version": "3.6.5"
  }
 },
 "nbformat": 4,
 "nbformat_minor": 2
}
