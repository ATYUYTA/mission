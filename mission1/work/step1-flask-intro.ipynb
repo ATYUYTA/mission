{
 "cells": [
  {
   "cell_type": "code",
   "execution_count": null,
   "metadata": {
    "collapsed": true
   },
   "outputs": [],
   "source": [
    "\"\"\"\n",
    "\n",
    "後端工程師經常會需要做一些適合用一個http server來做的需求，\n",
    "有的時候如果會快速地開發一個簡單易用的http server，這些需求也就會因此迎刃而解。\n",
    "\n",
    "\"\"\""
   ]
  },
  {
   "cell_type": "code",
   "execution_count": 1,
   "metadata": {},
   "outputs": [
    {
     "name": "stdout",
     "output_type": "stream",
     "text": [
      "Collecting flask\n",
      "  Downloading https://files.pythonhosted.org/packages/7f/e7/08578774ed4536d3242b14dacb4696386634607af824ea997202cd0edb4b/Flask-1.0.2-py2.py3-none-any.whl (91kB)\n",
      "\u001b[K    100% |████████████████████████████████| 92kB 792kB/s ta 0:00:01\n",
      "\u001b[?25hCollecting Werkzeug>=0.14 (from flask)\n",
      "  Downloading https://files.pythonhosted.org/packages/20/c4/12e3e56473e52375aa29c4764e70d1b8f3efa6682bef8d0aae04fe335243/Werkzeug-0.14.1-py2.py3-none-any.whl (322kB)\n",
      "\u001b[K    100% |████████████████████████████████| 327kB 1.4MB/s ta 0:00:01\n",
      "\u001b[?25hCollecting click>=5.1 (from flask)\n",
      "  Downloading https://files.pythonhosted.org/packages/34/c1/8806f99713ddb993c5366c362b2f908f18269f8d792aff1abfd700775a77/click-6.7-py2.py3-none-any.whl (71kB)\n",
      "\u001b[K    100% |████████████████████████████████| 71kB 4.0MB/s ta 0:00:011\n",
      "\u001b[?25hCollecting itsdangerous>=0.24 (from flask)\n",
      "  Downloading https://files.pythonhosted.org/packages/dc/b4/a60bcdba945c00f6d608d8975131ab3f25b22f2bcfe1dab221165194b2d4/itsdangerous-0.24.tar.gz (46kB)\n",
      "\u001b[K    100% |████████████████████████████████| 51kB 3.3MB/s ta 0:00:011\n",
      "\u001b[?25hRequirement already satisfied: Jinja2>=2.10 in /opt/conda/lib/python3.6/site-packages (from flask)\n",
      "Requirement already satisfied: MarkupSafe>=0.23 in /opt/conda/lib/python3.6/site-packages (from Jinja2>=2.10->flask)\n",
      "Building wheels for collected packages: itsdangerous\n",
      "  Running setup.py bdist_wheel for itsdangerous ... \u001b[?25ldone\n",
      "\u001b[?25h  Stored in directory: /home/jovyan/.cache/pip/wheels/2c/4a/61/5599631c1554768c6290b08c02c72d7317910374ca602ff1e5\n",
      "Successfully built itsdangerous\n",
      "Installing collected packages: Werkzeug, click, itsdangerous, flask\n",
      "Successfully installed Werkzeug-0.14.1 click-6.7 flask-1.0.2 itsdangerous-0.24\n",
      "\u001b[33mYou are using pip version 9.0.3, however version 18.0 is available.\n",
      "You should consider upgrading via the 'pip install --upgrade pip' command.\u001b[0m\n"
     ]
    }
   ],
   "source": [
    "# 安裝flask套件\n",
    "!pip install flask"
   ]
  },
  {
   "cell_type": "code",
   "execution_count": null,
   "metadata": {},
   "outputs": [
    {
     "name": "stderr",
     "output_type": "stream",
     "text": [
      " * Running on http://0.0.0.0:5000/ (Press CTRL+C to quit)\n"
     ]
    }
   ],
   "source": [
    "\"\"\"\n",
    "flask 簡單hello world 實作\n",
    "\"\"\"\n",
    "\n",
    "from flask import Flask, request, abort\n",
    "app = Flask(__name__)\n",
    "\n",
    "@app.route('/',methods=['GET'])\n",
    "def hello_world():\n",
    "    return 'Hello, World!'\n",
    "\n",
    "if __name__ == \"__main__\":\n",
    "    app.run(host='0.0.0.0',port=5000)\n",
    "\n",
    "\n"
   ]
  },
  {
   "cell_type": "code",
   "execution_count": null,
   "metadata": {},
   "outputs": [],
   "source": [
    "\"\"\"\n",
    "get 時 回傳json\n",
    "\"\"\"\n",
    "from flask import Flask, request, abort, jsonify\n",
    "app = Flask(__name__,static_url_path = \"/images\" , static_folder = \"./images/\" )\n",
    "\n",
    "@app.route('/',methods=['GET'])\n",
    "def hello_world():\n",
    "    t = {'a':1,'b':'hello'}\n",
    "    return jsonify(t)\n",
    "\n",
    "if __name__ == \"__main__\":\n",
    "    app.run(host='0.0.0.0')"
   ]
  },
  {
   "cell_type": "code",
   "execution_count": null,
   "metadata": {},
   "outputs": [],
   "source": [
    "\"\"\"\n",
    "flask get結合query string\n",
    "\n",
    "使用時，查詢http://192.168.114.10:5000?hello=iii\n",
    "\n",
    "\"\"\"\n",
    "\n",
    "from flask import Flask, request, abort, jsonify\n",
    "app = Flask(__name__,static_url_path = \"/images\" , static_folder = \"./images/\" )\n",
    "\n",
    "@app.route('/',methods=['GET'])\n",
    "def hello_world():\n",
    "    t = request.args.get('hello')\n",
    "    jsonDict = {'hello':t}\n",
    "    return jsonify(jsonDict)\n",
    "\n",
    "if __name__ == \"__main__\":\n",
    "    app.run(host='0.0.0.0')"
   ]
  },
  {
   "cell_type": "code",
   "execution_count": null,
   "metadata": {},
   "outputs": [],
   "source": [
    "\"\"\"\n",
    "\n",
    "flask simple post\n",
    "用戶可以對Server丟post，\n",
    "Server會找出 欄位為nickname的值進行操作\n",
    "\n",
    "\"\"\"\n",
    "\n",
    "from flask import Flask, request, abort, jsonify\n",
    "app = Flask(__name__,static_url_path = \"/images\" , static_folder = \"./images/\" )\n",
    "\n",
    "@app.route('/',methods=['POST'])\n",
    "def hello_world():\n",
    "    t =request.get_json()\n",
    "    jsonDict = {'nickname':t.get('nickname','little apple')}\n",
    "    return jsonify(jsonDict)\n",
    "\n",
    "if __name__ == \"__main__\":\n",
    "    app.run(host='0.0.0.0')\n",
    "    \n",
    "    "
   ]
  },
  {
   "cell_type": "code",
   "execution_count": null,
   "metadata": {
    "collapsed": true
   },
   "outputs": [],
   "source": []
  }
 ],
 "metadata": {
  "kernelspec": {
   "display_name": "Python 3",
   "language": "python",
   "name": "python3"
  },
  "language_info": {
   "codemirror_mode": {
    "name": "ipython",
    "version": 3
   },
   "file_extension": ".py",
   "mimetype": "text/x-python",
   "name": "python",
   "nbconvert_exporter": "python",
   "pygments_lexer": "ipython3",
   "version": "3.6.5"
  }
 },
 "nbformat": 4,
 "nbformat_minor": 1
}
