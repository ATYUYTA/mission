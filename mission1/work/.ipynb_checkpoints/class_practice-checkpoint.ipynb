{
 "cells": [
  {
   "cell_type": "code",
   "execution_count": 1,
   "metadata": {},
   "outputs": [],
   "source": [
    "class Person():\n",
    "    def __init__(self,name,age):\n",
    "        self.name=name\n",
    "        self.age=age\n",
    "    def age2():\n",
    "        return self.age*2"
   ]
  },
  {
   "cell_type": "code",
   "execution_count": null,
   "metadata": {},
   "outputs": [],
   "source": [
    "a=Person('ming',18)\n",
    "print(a.age2())"
   ]
  },
  {
   "cell_type": "code",
   "execution_count": 21,
   "metadata": {},
   "outputs": [
    {
     "name": "stdout",
     "output_type": "stream",
     "text": [
      "ming\n",
      "18\n"
     ]
    }
   ],
   "source": [
    "xiaoMing=Person('ming',18)\n",
    "print (xiaoMing.name)\n",
    "print (xiaoMing.age)"
   ]
  },
  {
   "cell_type": "code",
   "execution_count": 57,
   "metadata": {},
   "outputs": [],
   "source": [
    "class score():\n",
    "    def __init__(self,math,music,english):\n",
    "        self.math=math\n",
    "        self.music=music\n",
    "        self.english=english\n",
    "        \n",
    "    def avg(self):\n",
    "        return(self.math+self.music+self.english)/3\n",
    "        \n",
    "    def sum(self):\n",
    "        return(self.math+self.music+self.english)"
   ]
  },
  {
   "cell_type": "code",
   "execution_count": 60,
   "metadata": {},
   "outputs": [
    {
     "name": "stdout",
     "output_type": "stream",
     "text": [
      "math= 50\n",
      "avg= 36.666666666666664\n",
      "sum= 110\n"
     ]
    }
   ],
   "source": [
    "chester=score(50,20,40)\n",
    "print ('math=',chester.math)\n",
    "print ('avg=',chester.avg())\n",
    "print ('sum=',chester.sum())\n"
   ]
  }
 ],
 "metadata": {
  "kernelspec": {
   "display_name": "Python 3",
   "language": "python",
   "name": "python3"
  },
  "language_info": {
   "codemirror_mode": {
    "name": "ipython",
    "version": 3
   },
   "file_extension": ".py",
   "mimetype": "text/x-python",
   "name": "python",
   "nbconvert_exporter": "python",
   "pygments_lexer": "ipython3",
   "version": "3.6.5"
  }
 },
 "nbformat": 4,
 "nbformat_minor": 2
}
